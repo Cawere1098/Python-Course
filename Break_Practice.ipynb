{
 "cells": [
  {
   "cell_type": "code",
   "execution_count": null,
   "id": "faaf7bbe",
   "metadata": {},
   "outputs": [],
   "source": [
    "#Function for String Skyline Function - \n",
    "\n",
    "def myfunc(a):\n",
    "    b=\"\"\n",
    "    for i in range(len(a)):\n",
    "        if i%2==0:\n",
    "            b=b+a[i].upper()\n",
    "        else:\n",
    "            b=b+a[i]\n",
    "    return b\n",
    "\n",
    "\n",
    "\n",
    "myfunc('anything')"
   ]
  },
  {
   "cell_type": "markdown",
   "id": "85764192",
   "metadata": {},
   "source": [
    "#### PROBLEM : LESSER OF TWO EVENS: Write a function that returns the lesser of two given numbers *if* both numbers are even, but returns the greater if one or both numbers are odd\n",
    "    lesser_of_two_evens(2,4) --> 2\n",
    "    lesser_of_two_evens(2,5) --> 5"
   ]
  },
  {
   "cell_type": "code",
   "execution_count": null,
   "id": "578d9f3a",
   "metadata": {},
   "outputs": [],
   "source": [
    "def lesser_of_two_evens(a,b):\n",
    "    if a%2==0 and b%2==0:\n",
    "        return min(a,b)\n",
    "    else:\n",
    "        return max(a,b)"
   ]
  },
  {
   "cell_type": "code",
   "execution_count": null,
   "id": "04d59bc7",
   "metadata": {},
   "outputs": [],
   "source": [
    "myfunc(2,4)"
   ]
  },
  {
   "cell_type": "code",
   "execution_count": null,
   "id": "2341e608",
   "metadata": {},
   "outputs": [],
   "source": [
    "myfunc(2,13)"
   ]
  },
  {
   "cell_type": "markdown",
   "id": "1415e93d",
   "metadata": {},
   "source": [
    "### ANIMAL CRACKERS: Write a function takes a two-word string and returns True if both words begin with same letter\n",
    "    animal_crackers('Levelheaded Llama') --> True\n",
    "    animal_crackers('Crazy Kangaroo') --> False"
   ]
  },
  {
   "cell_type": "code",
   "execution_count": null,
   "id": "7c4248a8",
   "metadata": {},
   "outputs": [],
   "source": [
    "def word_fn(a):\n",
    "    word_list=a.split()\n",
    "    for i in range(len(word_list)):\n",
    "        if word_list[0][0]==word_list[1][0]:\n",
    "            return True\n",
    "        else :\n",
    "            return False"
   ]
  },
  {
   "cell_type": "code",
   "execution_count": null,
   "id": "2b03469b",
   "metadata": {},
   "outputs": [],
   "source": [
    "word_fn('Levelheaded Llama')"
   ]
  },
  {
   "cell_type": "code",
   "execution_count": null,
   "id": "62bcd7ea",
   "metadata": {},
   "outputs": [],
   "source": [
    "word_fn('Crazy Kangaroo')"
   ]
  },
  {
   "cell_type": "markdown",
   "id": "520ff041",
   "metadata": {},
   "source": [
    "#### MAKES TWENTY: Given two integers, return True if the sum of the integers is 20 *or* if one of the integers is 20. If not, return False\n",
    "\n",
    "    makes_twenty(20,10) --> True\n",
    "    makes_twenty(12,8) --> True\n",
    "    makes_twenty(2,3) --> False"
   ]
  },
  {
   "cell_type": "code",
   "execution_count": null,
   "id": "f498a96e",
   "metadata": {},
   "outputs": [],
   "source": [
    "def makes_twenty(a,b):\n",
    "    if (a+b)==20 or a==20 or b==20:\n",
    "        return True\n",
    "    else:\n",
    "        return False"
   ]
  },
  {
   "cell_type": "code",
   "execution_count": null,
   "id": "6fb69cea",
   "metadata": {},
   "outputs": [],
   "source": [
    "makes_twenty(20,10)"
   ]
  },
  {
   "cell_type": "code",
   "execution_count": null,
   "id": "50f23412",
   "metadata": {},
   "outputs": [],
   "source": [
    "makes_twenty(12,8)"
   ]
  },
  {
   "cell_type": "code",
   "execution_count": null,
   "id": "d0dc14c0",
   "metadata": {},
   "outputs": [],
   "source": [
    "makes_twenty(2,3)"
   ]
  },
  {
   "cell_type": "markdown",
   "id": "39f924be",
   "metadata": {},
   "source": [
    "# LEVEL 1 PROBLEMS\n",
    "\n",
    "\n",
    "#### OLD MACDONALD: Write a function that capitalizes the first and fourth letters of a name\n",
    "     \n",
    "    old_macdonald('macdonald') --> MacDonald\n",
    "    \n",
    "Note: `'macdonald'.capitalize()` returns `'Macdonald'`"
   ]
  },
  {
   "cell_type": "code",
   "execution_count": null,
   "id": "5927a113",
   "metadata": {},
   "outputs": [],
   "source": [
    "def f1(name):\n",
    "    name=name.capitalize()\n",
    "    b=''\n",
    "    for i in range(len(name)):\n",
    "        if i==3:\n",
    "            temp=name[i].upper()\n",
    "            b=b+temp\n",
    "        else:\n",
    "            temp=name[i]\n",
    "            b=b+temp\n",
    "    return b"
   ]
  },
  {
   "cell_type": "code",
   "execution_count": null,
   "id": "1d74dc0d",
   "metadata": {},
   "outputs": [],
   "source": [
    "f1('macdonald')"
   ]
  },
  {
   "cell_type": "code",
   "execution_count": null,
   "id": "6e55416c",
   "metadata": {},
   "outputs": [],
   "source": [
    "f1('macveg')"
   ]
  },
  {
   "cell_type": "markdown",
   "id": "8542c37e",
   "metadata": {},
   "source": []
  },
  {
   "cell_type": "markdown",
   "id": "4ca51f46",
   "metadata": {},
   "source": [
    "#### MASTER YODA: Given a sentence, return a sentence with the words reversed\n",
    "\n",
    "    master_yoda('I am home') --> 'home am I'\n",
    "    master_yoda('We are ready') --> 'ready are We'\n",
    "    \n",
    "Note: The .join() method may be useful here. The .join() method allows you to join together strings in a list with some connector string. For example, some uses of the .join() method:\n",
    "\n",
    "    >>> \"--\".join(['a','b','c'])\n",
    "    >>> 'a--b--c'\n",
    "\n",
    "This means if you had a list of words you wanted to turn back into a sentence, you could just join them with a single space string:\n",
    "\n",
    "    >>> \" \".join(['Hello','world'])\n",
    "    >>> \"Hello world\""
   ]
  },
  {
   "cell_type": "code",
   "execution_count": null,
   "id": "d02b5b17",
   "metadata": {},
   "outputs": [],
   "source": [
    "def f1(a):\n",
    "    b=a.split()\n",
    "    b.reverse()\n",
    "    c=''\n",
    "    for i in b:\n",
    "        c=c+i+\" \"\n",
    "    return c\n",
    "    "
   ]
  },
  {
   "cell_type": "code",
   "execution_count": null,
   "id": "b0992f54",
   "metadata": {},
   "outputs": [],
   "source": [
    "f1('We are ready')"
   ]
  },
  {
   "cell_type": "code",
   "execution_count": null,
   "id": "bef05482",
   "metadata": {},
   "outputs": [],
   "source": [
    "def f1(a):\n",
    "    b=a.split()\n",
    "    b.reverse()\n",
    "    c=' '.join(b)\n",
    "    return c\n",
    "\n",
    "f1('I am really great')"
   ]
  },
  {
   "cell_type": "markdown",
   "id": "ab156df1",
   "metadata": {},
   "source": []
  },
  {
   "cell_type": "markdown",
   "id": "91055591",
   "metadata": {},
   "source": []
  },
  {
   "cell_type": "code",
   "execution_count": null,
   "id": "f2e446b2",
   "metadata": {},
   "outputs": [],
   "source": [
    "def f1(x):\n",
    "    return (abs(x)<10) or abs(x)==100 or abs(x)==200"
   ]
  },
  {
   "cell_type": "code",
   "execution_count": null,
   "id": "2738fdb3",
   "metadata": {},
   "outputs": [],
   "source": [
    "f1(-200)"
   ]
  },
  {
   "cell_type": "code",
   "execution_count": null,
   "id": "9610b874",
   "metadata": {},
   "outputs": [],
   "source": []
  },
  {
   "cell_type": "code",
   "execution_count": null,
   "id": "0f14e3ed",
   "metadata": {},
   "outputs": [],
   "source": []
  },
  {
   "cell_type": "markdown",
   "id": "624b70fc",
   "metadata": {},
   "source": [
    "# LEVEL 2 PROBLEMS\n"
   ]
  },
  {
   "cell_type": "markdown",
   "id": "dfb3da56",
   "metadata": {},
   "source": [
    "#### FIND 33: \n",
    "\n",
    "Given a list of ints, return True if the array contains a 3 next to a 3 somewhere.\n",
    "\n",
    "    has_33([1, 3, 3]) → True\n",
    "    has_33([1, 3, 1, 3]) → False\n",
    "    has_33([3, 1, 3]) → False"
   ]
  },
  {
   "cell_type": "code",
   "execution_count": null,
   "id": "b5855e20",
   "metadata": {},
   "outputs": [],
   "source": [
    "def f1(a):\n",
    "    for i in range(len(a)-1):\n",
    "        if a[i]==a[i+1] or a[i]==a[i-1]:\n",
    "            return True\n",
    "            break\n",
    "        else:\n",
    "            return False\n",
    "    \n",
    "        \n",
    "    #or a[i]==a[i-1]\n",
    "    \n"
   ]
  },
  {
   "cell_type": "code",
   "execution_count": null,
   "id": "c48d01e5",
   "metadata": {},
   "outputs": [],
   "source": [
    "a=[3,1,3]\n",
    "f1(a)"
   ]
  },
  {
   "cell_type": "code",
   "execution_count": null,
   "id": "980b0bde",
   "metadata": {},
   "outputs": [],
   "source": [
    "def f1(a):\n",
    "    for i in range(len(a)-1):\n",
    "        if a[i]==3:\n",
    "            if a[i+1]==3:\n",
    "                return True\n",
    "                break\n",
    "            else:\n",
    "                return False\n",
    "                \n",
    "                "
   ]
  },
  {
   "cell_type": "code",
   "execution_count": null,
   "id": "e1fb1347",
   "metadata": {},
   "outputs": [],
   "source": [
    "f1([3, 1, 3])"
   ]
  },
  {
   "cell_type": "markdown",
   "id": "a1ab5239",
   "metadata": {},
   "source": [
    "#### PAPER DOLL: Given a string, return a string where for every character in the original there are three characters\n",
    "    paper_doll('Hello') --> 'HHHeeellllllooo'\n",
    "    paper_doll('Mississippi') --> 'MMMiiissssssiiippppppiii'"
   ]
  },
  {
   "cell_type": "code",
   "execution_count": null,
   "id": "384ede52",
   "metadata": {},
   "outputs": [],
   "source": [
    "def paper_doll(a):\n",
    "    b=''\n",
    "    for i in a:\n",
    "        \n",
    "        b+=i+i+i\n",
    "    return b\n",
    "\n",
    "    "
   ]
  },
  {
   "cell_type": "code",
   "execution_count": null,
   "id": "827525a0",
   "metadata": {},
   "outputs": [],
   "source": [
    "paper_doll('Hello')\n",
    "paper_doll('Mississippi')"
   ]
  },
  {
   "cell_type": "code",
   "execution_count": null,
   "id": "baa940ba",
   "metadata": {},
   "outputs": [],
   "source": [
    "def blackjack(a,b,c):\n",
    "    a1=[a,b,c]\n",
    "    if sum(a1) <= 21:\n",
    "        return sum(a1)\n",
    "    elif sum(a1)>21:\n",
    "        for i in a1:\n",
    "            if i==11:\n",
    "                return sum(a1)-10\n",
    "        else:\n",
    "            return 'Bust'\n",
    "    "
   ]
  },
  {
   "cell_type": "code",
   "execution_count": null,
   "id": "150f9ed5",
   "metadata": {},
   "outputs": [],
   "source": [
    "blackjack(9,9,11) "
   ]
  },
  {
   "cell_type": "code",
   "execution_count": null,
   "id": "fc2e9fd0",
   "metadata": {},
   "outputs": [],
   "source": [
    "a=[1,2,3]\n",
    "sum(a)"
   ]
  },
  {
   "cell_type": "markdown",
   "id": "2a62413b",
   "metadata": {},
   "source": [
    "#### SUMMER OF '69: Return the sum of the numbers in the array, except ignore sections of numbers starting with a 6 and extending to the next 9 (every 6 will be followed by at least one 9). Return 0 for no numbers.\n",
    " \n",
    "    summer_69([1, 3, 5]) --> 9\n",
    "    summer_69([4, 5, 6, 7, 8, 9]) --> 9\n",
    "    summer_69([2, 1, 6, 9, 11]) --> 14"
   ]
  },
  {
   "cell_type": "code",
   "execution_count": null,
   "id": "dab2618d",
   "metadata": {},
   "outputs": [],
   "source": [
    "def summer_69(a):\n",
    "    s=0 \n",
    "    b=[]\n",
    "    c=[]\n",
    "    \n",
    "    for i in a:\n",
    "        if i==6:\n",
    "            b+=a[:i]\n",
    "            print(b)\n",
    "        elif i==9:\n",
    "            c+=a[i:]\n",
    "        return b+c    \n",
    "        \n",
    "       \n",
    "        \n",
    "            \n",
    "            \n",
    "  $$####################################################################3\n",
    "            "
   ]
  },
  {
   "cell_type": "code",
   "execution_count": null,
   "id": "3eece118",
   "metadata": {},
   "outputs": [],
   "source": [
    "summer_69([4, 5, 6, 7, 8, 9,10])"
   ]
  },
  {
   "cell_type": "markdown",
   "id": "151c25d5",
   "metadata": {},
   "source": [
    "#### SPY GAME: Write a function that takes in a list of integers and returns True if it contains 007 in order\n",
    "\n",
    "     spy_game([1,2,4,0,0,7,5]) --> True\n",
    "     spy_game([1,0,2,4,0,5,7]) --> True\n",
    "     spy_game([1,7,2,0,4,5,0]) --> False\n"
   ]
  },
  {
   "cell_type": "code",
   "execution_count": 61,
   "id": "d87e08d9",
   "metadata": {},
   "outputs": [],
   "source": [
    "def spy_game(a):\n",
    "    count1=-1\n",
    "    count2=0\n",
    "    for i in a:\n",
    "        count1 +=1\n",
    "        if i==0:\n",
    "            for j in a[count1:]:\n",
    "                count2+=1\n",
    "                if j==0:\n",
    "                    for k in a[count1+count2:]:\n",
    "                        if k==7:\n",
    "                            return True"
   ]
  },
  {
   "cell_type": "code",
   "execution_count": 62,
   "id": "dc91a62a",
   "metadata": {},
   "outputs": [
    {
     "data": {
      "text/plain": [
       "True"
      ]
     },
     "execution_count": 62,
     "metadata": {},
     "output_type": "execute_result"
    }
   ],
   "source": [
    "spy_game([1,2,4,0,0,7,5])"
   ]
  },
  {
   "cell_type": "code",
   "execution_count": 63,
   "id": "34c81ca0",
   "metadata": {},
   "outputs": [
    {
     "data": {
      "text/plain": [
       "True"
      ]
     },
     "execution_count": 63,
     "metadata": {},
     "output_type": "execute_result"
    }
   ],
   "source": [
    "spy_game([1,0,2,4,0,5,7])"
   ]
  },
  {
   "cell_type": "code",
   "execution_count": 64,
   "id": "88988b0f",
   "metadata": {},
   "outputs": [],
   "source": [
    "spy_game([1,7,2,0,4,5,0])"
   ]
  },
  {
   "cell_type": "markdown",
   "id": "9a761169",
   "metadata": {},
   "source": [
    "#### COUNT PRIMES: Write a function that returns the *number* of prime numbers that exist up to and including a given number\n",
    "    count_primes(100) --> 25\n",
    "\n",
    "By convention, 0 and 1 are not prime."
   ]
  },
  {
   "cell_type": "code",
   "execution_count": 44,
   "id": "ec4d9a1f",
   "metadata": {},
   "outputs": [],
   "source": [
    "def count_primes(a):\n",
    "    b=[]\n",
    "    for i in range(2,a+1):\n",
    "        count=0\n",
    "        for j in range(2,i):\n",
    "            if i%j==0:\n",
    "                count=1\n",
    "                break\n",
    "                          \n",
    "        if count==0:        \n",
    "            b.append(i)\n",
    "    return len(b)\n",
    "\n",
    "            \n",
    "        "
   ]
  },
  {
   "cell_type": "code",
   "execution_count": 45,
   "id": "d9fdaa04",
   "metadata": {},
   "outputs": [
    {
     "data": {
      "text/plain": [
       "25"
      ]
     },
     "execution_count": 45,
     "metadata": {},
     "output_type": "execute_result"
    }
   ],
   "source": [
    "count_primes(100)"
   ]
  },
  {
   "cell_type": "code",
   "execution_count": null,
   "id": "6e45ce81",
   "metadata": {},
   "outputs": [],
   "source": []
  },
  {
   "cell_type": "code",
   "execution_count": null,
   "id": "97916a05",
   "metadata": {},
   "outputs": [],
   "source": []
  },
  {
   "cell_type": "code",
   "execution_count": null,
   "id": "2338eb59",
   "metadata": {},
   "outputs": [],
   "source": []
  },
  {
   "cell_type": "code",
   "execution_count": null,
   "id": "0099727a",
   "metadata": {},
   "outputs": [],
   "source": []
  },
  {
   "cell_type": "code",
   "execution_count": null,
   "id": "a4e3ff14",
   "metadata": {},
   "outputs": [],
   "source": []
  }
 ],
 "metadata": {
  "kernelspec": {
   "display_name": "Python 3 (ipykernel)",
   "language": "python",
   "name": "python3"
  },
  "language_info": {
   "codemirror_mode": {
    "name": "ipython",
    "version": 3
   },
   "file_extension": ".py",
   "mimetype": "text/x-python",
   "name": "python",
   "nbconvert_exporter": "python",
   "pygments_lexer": "ipython3",
   "version": "3.9.7"
  }
 },
 "nbformat": 4,
 "nbformat_minor": 5
}
