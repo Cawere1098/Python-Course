{
 "cells": [
  {
   "cell_type": "code",
   "execution_count": 18,
   "id": "ec642e78",
   "metadata": {},
   "outputs": [
    {
     "data": {
      "text/plain": [
       "'AnYyThInG'"
      ]
     },
     "execution_count": 18,
     "metadata": {},
     "output_type": "execute_result"
    }
   ],
   "source": [
    "def myfunc(a):\n",
    "    b=\"\"\n",
    "    for i in range(len(a)):\n",
    "        if i%2==0:\n",
    "            b=b+a[i].upper()\n",
    "        else:\n",
    "            b=b+a[i]\n",
    "    return b\n",
    "\n",
    "\n",
    "\n",
    "myfunc('anyything')"
   ]
  },
  {
   "cell_type": "code",
   "execution_count": 14,
   "id": "30c24557",
   "metadata": {},
   "outputs": [
    {
     "name": "stdout",
     "output_type": "stream",
     "text": [
      "h\n",
      "e\n",
      "e\n",
      "f\n",
      "w\n",
      "e\n",
      "t\n",
      "w\n",
      "e\n",
      "l\n",
      "o\n"
     ]
    }
   ],
   "source": [
    "a='heefwetwelo'\n",
    "for i in a:\n",
    "    print(i)"
   ]
  },
  {
   "cell_type": "code",
   "execution_count": 17,
   "id": "4e336e28",
   "metadata": {},
   "outputs": [
    {
     "name": "stdout",
     "output_type": "stream",
     "text": [
      "HeEfWeTwElO\n"
     ]
    }
   ],
   "source": [
    "b=\"\"\n",
    "for i in range(len(a)):\n",
    "    if i%2==0:\n",
    "        b=b+a[i].upper()\n",
    "    else:\n",
    "        b=b+a[i]\n",
    "\n",
    "    \n",
    "    \n",
    "print(b)"
   ]
  },
  {
   "cell_type": "code",
   "execution_count": null,
   "id": "fa193055",
   "metadata": {},
   "outputs": [],
   "source": []
  }
 ],
 "metadata": {
  "kernelspec": {
   "display_name": "Python 3 (ipykernel)",
   "language": "python",
   "name": "python3"
  },
  "language_info": {
   "codemirror_mode": {
    "name": "ipython",
    "version": 3
   },
   "file_extension": ".py",
   "mimetype": "text/x-python",
   "name": "python",
   "nbconvert_exporter": "python",
   "pygments_lexer": "ipython3",
   "version": "3.9.7"
  }
 },
 "nbformat": 4,
 "nbformat_minor": 5
}
